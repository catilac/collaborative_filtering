{
 "cells": [
  {
   "cell_type": "code",
   "execution_count": 9,
   "metadata": {
    "collapsed": false
   },
   "outputs": [],
   "source": [
    "import numpy as np\n",
    "from numpy.linalg import inv\n",
    "import pandas as pd\n",
    "from scipy import sparse, io\n",
    "from sklearn.preprocessing import binarize"
   ]
  },
  {
   "cell_type": "code",
   "execution_count": 10,
   "metadata": {
    "collapsed": false
   },
   "outputs": [],
   "source": [
    "# Load Song feature data\n",
    "song_features = pd.read_csv('small_song_features.csv', header=None)\n",
    "song_ids = pd.read_csv('small_songs.txt', names=['song_id'], header=None)\n",
    "user_ids = pd.read_csv('small_users.txt', names=['user_id'], header=None)\n",
    "num_songs = len(song_ids)\n",
    "num_users = len(user_ids)"
   ]
  },
  {
   "cell_type": "code",
   "execution_count": 11,
   "metadata": {
    "collapsed": false
   },
   "outputs": [],
   "source": [
    "# R matrix\n",
    "R = io.mmread('small_r.mtx').todense()\n",
    "P = binarize(R)\n",
    "# Create Songs matrix from Song vectors\n",
    "Y = song_features.as_matrix()\n",
    "# Randomly initialize user matrix\n",
    "X = np.random.rand(num_users, Y.shape[1])\n",
    "\n",
    "num_features = Y.shape[1]"
   ]
  },
  {
   "cell_type": "code",
   "execution_count": 12,
   "metadata": {
    "collapsed": false
   },
   "outputs": [],
   "source": [
    "Lambda = 5\n",
    "alpha = 40    "
   ]
  },
  {
   "cell_type": "code",
   "execution_count": 5,
   "metadata": {
    "collapsed": false
   },
   "outputs": [],
   "source": [
    "# Run ALS\n",
    "iterations = 15\n",
    "for x in range(iterations):\n",
    "    XTX = X.T @ X + Lambda * np.eye(num_features)\n",
    "    XTRiX = alpha * X.T @ R @ X\n",
    "    result = inv(XTX + XTRiX) @ X.T @ (P + alpha * R)\n",
    "    Y += result.T\n",
    "\n",
    "    YTY = Y.T @ Y + Lambda * np.eye(num_features)\n",
    "    YTRuY = alpha * Y.T @ R.T @ Y\n",
    "    result = inv(YTY + YTRuY) @ Y.T @ (P.T + alpha * R.T)\n",
    "    X += result.T"
   ]
  },
  {
   "cell_type": "code",
   "execution_count": 6,
   "metadata": {
    "collapsed": false
   },
   "outputs": [],
   "source": [
    "predictions = X @ Y.T"
   ]
  },
  {
   "cell_type": "code",
   "execution_count": 83,
   "metadata": {
    "collapsed": false
   },
   "outputs": [],
   "source": [
    "user_idx = 0\n",
    "played_songs = np.nonzero(R[user_idx])[1]\n",
    "\n",
    "played_song_ids = list(map(lambda song: song_ids.song_id[song], played_songs))\n",
    "\n",
    "predicted_songs = predictions[user_idx]\n",
    "# Zero out the songs that have already been played\n",
    "predicted_songs[played_songs] = 0\n",
    "\n",
    "top_10_predicted_song_ids = list(map(lambda song: song_ids.song_id[song], predicted_songs.argsort()[-50:]))\n",
    "\n",
    "\n"
   ]
  },
  {
   "cell_type": "code",
   "execution_count": 84,
   "metadata": {
    "collapsed": false
   },
   "outputs": [
    {
     "data": {
      "text/plain": [
       "['SOVYGAV12A58A7C3A9',\n",
       " 'SOZZPSS12A6D4F3C71',\n",
       " 'SONOZVC12A8C146161',\n",
       " 'SOJVRVE12A8C1353D0',\n",
       " 'SOOSBQP12A8C1353B6',\n",
       " 'SOZPNDA12AF729E799',\n",
       " 'SOROEFF12A8AE46392',\n",
       " 'SOBWNLS12AC46876E2',\n",
       " 'SOAADCB12A81C22AFA',\n",
       " 'SODQUEJ12A67ADA1C1',\n",
       " 'SOMLUGL12A6D4F82A3',\n",
       " 'SOYTZBN12AB0187A0C',\n",
       " 'SODHFCC12A58A7B15B',\n",
       " 'SOCPVMY12AF72AA178',\n",
       " 'SOROGSV12AB0188436',\n",
       " 'SOHTCVN12A8C134E46',\n",
       " 'SOTFJLZ12A8C136378',\n",
       " 'SOCSOVM12A8C135DBF',\n",
       " 'SOYRILB12B0B806BE7',\n",
       " 'SOXQGFR12A6D4F9CA5',\n",
       " 'SOMDKUA12AB0185FA3',\n",
       " 'SOVIIBB12AC3DF7EF6',\n",
       " 'SOBQMKL12A6D4F8B37',\n",
       " 'SOATMWD12AB0184EDD',\n",
       " 'SOBOXYJ12A8C13FDF0',\n",
       " 'SONTAGU12A58A79693',\n",
       " 'SOWOAXK12A6310D81F',\n",
       " 'SOBGYNC12A6D4FBFAD',\n",
       " 'SOPZPIB12A6BD4D3D7',\n",
       " 'SOXNSDK12A8AE46A28',\n",
       " 'SOYQNCM12AB0185E9F',\n",
       " 'SOCSGGX12AB018B6D4',\n",
       " 'SOJELTQ12A8C1301E2',\n",
       " 'SOCMSWR12A8C137FA6',\n",
       " 'SOIYIQM12AB0186C97',\n",
       " 'SOSLFZR12AB0184B02',\n",
       " 'SOHVJFJ12A67ADCFC9',\n",
       " 'SOUNQFQ12A8AE44DC5',\n",
       " 'SOPJWVF12A8C13AC87',\n",
       " 'SOGVKGT12A8C13A97A',\n",
       " 'SOWWQAF12AB0187C02',\n",
       " 'SOLDXXS12A67021D5A',\n",
       " 'SOFRIAZ12AB017E5E5',\n",
       " 'SORLDJV12AB01874D0',\n",
       " 'SOCZDBN12A6701E4BA',\n",
       " 'SOJJOGI12AB0180F06',\n",
       " 'SOEEPBT12A8C13F24F',\n",
       " 'SOXENFL12A8C144212',\n",
       " 'SOXDNNI12AB018CB19',\n",
       " 'SOVDVCC12A6D4FA07D']"
      ]
     },
     "execution_count": 84,
     "metadata": {},
     "output_type": "execute_result"
    }
   ],
   "source": [
    "top_10_predicted_song_ids"
   ]
  },
  {
   "cell_type": "code",
   "execution_count": 77,
   "metadata": {
    "collapsed": false
   },
   "outputs": [
    {
     "data": {
      "text/plain": [
       "['SOFRQTD12A81C233C0',\n",
       " 'SOAUWYT12A81C206F1',\n",
       " 'SOBONKR12A58A7A7E0',\n",
       " 'SOEGIYH12A6D4FC0E3',\n",
       " 'SONYKOW12AB01849C9',\n",
       " 'SOTWNDJ12A8C143984',\n",
       " 'SOWCKVR12A8C142411',\n",
       " 'SOHTKMO12AB01843B0',\n",
       " 'SOFRCGW12A81C21EA6',\n",
       " 'SOPWZGK12A67020744',\n",
       " 'SOULTKQ12AB018A183',\n",
       " 'SOWTORN12A8C142DA1',\n",
       " 'SOJCAVK12A8151B805',\n",
       " 'SOAFPPR12A8AE46454',\n",
       " 'SOPVJNI12A81C219B9',\n",
       " 'SOVERPW12A81C219CE',\n",
       " 'SOTEGWG12AB01897AC',\n",
       " 'SOYGKNI12AB0187E6E',\n",
       " 'SOAQMNM12AB0188D7A',\n",
       " 'SOTRBGU12A58A7C0DA',\n",
       " 'SOGGXNH12AB018D2AC',\n",
       " 'SOEKSKB12A6D4F7938',\n",
       " 'SOVMWUC12A8C13750B',\n",
       " 'SOUFTBI12AB0183F65',\n",
       " 'SOLPTVW12A8C13F136',\n",
       " 'SOOPGJQ12A81C219C1',\n",
       " 'SOTJTUX12AB018247F',\n",
       " 'SOKPXGC12A8C136883',\n",
       " 'SOQGOPT12AAF3B2B27',\n",
       " 'SOGOAJS12A58A7A71F',\n",
       " 'SOVEBCN12A8C13D0A6',\n",
       " 'SOIHEZR12AB0182B79',\n",
       " 'SOGWSEW12A8C1344E0']"
      ]
     },
     "execution_count": 77,
     "metadata": {},
     "output_type": "execute_result"
    }
   ],
   "source": [
    "played_song_ids"
   ]
  }
 ],
 "metadata": {
  "kernelspec": {
   "display_name": "Python 3",
   "language": "python",
   "name": "python3"
  },
  "language_info": {
   "codemirror_mode": {
    "name": "ipython",
    "version": 3
   },
   "file_extension": ".py",
   "mimetype": "text/x-python",
   "name": "python",
   "nbconvert_exporter": "python",
   "pygments_lexer": "ipython3",
   "version": "3.5.1"
  }
 },
 "nbformat": 4,
 "nbformat_minor": 0
}
